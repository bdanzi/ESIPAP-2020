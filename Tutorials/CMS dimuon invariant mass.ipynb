{
 "cells": [
  {
   "cell_type": "markdown",
   "metadata": {},
   "source": [
    "# Invariant mass exercise\n",
    "\n",
    "This notebook make use of a subset of 2010 CMS collision data released a Open Data:\n",
    "\n",
    "* McCauley, T. (2014). Dimuon event information derived from the Run2010B public Mu dataset. CERN Open Data Portal. DOI: [10.7483/OPENDATA.CMS.CB8H.MFFA](http://opendata.cern.ch/record/700).\n",
    "\n",
    "The file we are using contains about 10000 $\\mu\\mu$ events recorded in 2010. Each line corresponds to an event, and present the kinematical information about the recorded muon pair:\n",
    "\n",
    "`Run,Event,E1,px1 ,py1,pz1,pt1,eta1,phi1,Q1,E2,px2,py2,pz2,pt2,eta2,phi2,Q2,M`\n",
    "\n",
    "Each muon candidate is characterised by:\n",
    "\n",
    "- `E`: energy\n",
    "- `px,py,pz`: momentum components\n",
    "- `pt,eta,phi`: tranverse momentum, pseudorapidity, azimuthal angle\n",
    "- `Q`: electrical charge"
   ]
  },
  {
   "cell_type": "code",
   "execution_count": 8,
   "metadata": {},
   "outputs": [],
   "source": [
    "import ROOT"
   ]
  },
  {
   "cell_type": "markdown",
   "metadata": {},
   "source": [
    "Let's begin by reading in the data as a ROOT TTree. This step might take a while: be patient!"
   ]
  },
  {
   "cell_type": "code",
   "execution_count": 9,
   "metadata": {},
   "outputs": [],
   "source": [
    "inputFileName = \"MuRun2010B_Clean.csv\""
   ]
  },
  {
   "cell_type": "code",
   "execution_count": 16,
   "metadata": {},
   "outputs": [
    {
     "data": {
      "text/plain": [
       "100000"
      ]
     },
     "execution_count": 16,
     "metadata": {},
     "output_type": "execute_result"
    }
   ],
   "source": [
    "dimuons = ROOT.TTree(\"MuonPairs\",\"MuonPairs\")\n",
    "dimuons.ReadFile(inputFileName)\n",
    "#dimuons.Print()"
   ]
  },
  {
   "cell_type": "markdown",
   "metadata": {},
   "source": [
    "## 1. Plot the dimuon invariant mass spectrum\n",
    "\n",
    "We begin by creating an histogram to hold the invariant mass values:"
   ]
  },
  {
   "cell_type": "code",
   "execution_count": 11,
   "metadata": {},
   "outputs": [
    {
     "name": "stderr",
     "output_type": "stream",
     "text": [
      "Warning in <TROOT::Append>: Replacing existing TH1: invMass (Potential memory leak).\n"
     ]
    }
   ],
   "source": [
    "invMass = ROOT.TH1F(\"invMass\",\"CMS Opendata: #mu#mu mass;#mu#mu mass [GeV];Events\",512, 2, 110)"
   ]
  },
  {
   "cell_type": "markdown",
   "metadata": {},
   "source": [
    "In order to loop on the TTree rows, we use the [TTree::Draw](https://root.cern.ch/doc/master/classTTree.html) method: this is the most straightforward way in which you can loop on a N-tuple in ROOT (but not the only one!). \n",
    "\n",
    "First we define the formula for the invariant mass of the muon pair:\n",
    "\n",
    "$$ m_{\\mu\\mu} = \\sqrt{ (E_1 + E_2)^2 - (\\vec{p}_1 + \\vec{p}_2 +)^2}$$"
   ]
  },
  {
   "cell_type": "code",
   "execution_count": 12,
   "metadata": {},
   "outputs": [],
   "source": [
    "invMassFormula = \"sqrt((E1 + E2)^2 - ((px1 + px2)^2 + (py1 + py2)^2 + (pz1 + pz2)^2))\""
   ]
  },
  {
   "cell_type": "markdown",
   "metadata": {},
   "source": [
    "Then we define a selection for the events. In this simple esemple, we require that the muons in the pair have opposite electricla charge:"
   ]
  },
  {
   "cell_type": "code",
   "execution_count": 13,
   "metadata": {},
   "outputs": [],
   "source": [
    "selection = \"Q1*Q2==-1\""
   ]
  },
  {
   "cell_type": "markdown",
   "metadata": {},
   "source": [
    "Now we loop with `TTree::Draw()` and store the result into the `invMass` histogram, then we plot it.\n",
    "\n",
    "**What can you observe in the resulting invariant mass spectrum? How many peaks can you see?**"
   ]
  },
  {
   "cell_type": "code",
   "execution_count": 15,
   "metadata": {},
   "outputs": [
    {
     "data": {
      "image/png": "[encoded data removed]",
      "text/plain": [
       "<IPython.core.display.Image object>"
      ]
     },
     "metadata": {},
     "output_type": "display_data"
    }
   ],
   "source": [
    "c = ROOT.TCanvas()\n",
    "\n",
    "dimuons.Draw(invMassFormula + \" >> invMass\",selection,\"hist\")\n",
    "\n",
    "c.SetLogx()\n",
    "c.SetLogy()\n",
    "c.Draw()"
   ]
  },
  {
   "cell_type": "markdown",
   "metadata": {},
   "source": [
    "## 2. Modify the code to isolate the $J/\\Psi$ and the $Z$ peaks\n",
    "\n",
    "Below there's an example of how esplicitely to loop on a `TTree` without using the `TTree::Draw()` method that we used before: using this direct approach facilitates the inclusion of specific selections on the data properties. The code below reproduced what we just did with this new approach: add any histogram you might need, and any specific selection/logic to fill it..."
   ]
  },
  {
   "cell_type": "code",
   "execution_count": 19,
   "metadata": {},
   "outputs": [
    {
     "name": "stderr",
     "output_type": "stream",
     "text": [
      "Warning in <TROOT::Append>: Replacing existing TH1: invMass (Potential memory leak).\n"
     ]
    }
   ],
   "source": [
    "from math import sqrt\n",
    "\n",
    "invMass = ROOT.TH1F(\"invMass\",\"CMS Opendata: #mu#mu mass;#mu#mu mass [GeV];Events\",512, 2, 110)\n",
    "\n",
    "for e in dimuons: # an esplicit loop on the events. \"e\" is an event\n",
    "    if e.Q1 * e.Q2 != -1: # this is the \"opposite charge\" selection we has before\n",
    "        continue\n",
    "    # compute invariant mass\n",
    "    m = sqrt( (e.E1 + e.E2)**2 - ((e.px1 + e.px2)**2 + (e.py1 + e.py2)**2 + (e.pz1 + e.pz2)**2) )\n",
    "    invMass.Fill(m)"
   ]
  },
  {
   "cell_type": "code",
   "execution_count": 20,
   "metadata": {},
   "outputs": [
    {
     "data": {
      "image/png": "[encoded data removed]",
      "text/plain": [
       "<IPython.core.display.Image object>"
      ]
     },
     "metadata": {},
     "output_type": "display_data"
    }
   ],
   "source": [
    "c = ROOT.TCanvas()\n",
    "invMass.Draw()\n",
    "c.SetLogx()\n",
    "c.SetLogy()\n",
    "c.Draw()"
   ]
  },
  {
   "cell_type": "code",
   "execution_count": null,
   "metadata": {},
   "outputs": [],
   "source": []
  }
 ],
 "metadata": {
  "kernelspec": {
   "display_name": "Python 3",
   "language": "python",
   "name": "python3"
  },
  "language_info": {
   "codemirror_mode": {
    "name": "ipython",
    "version": 3
   },
   "file_extension": ".py",
   "mimetype": "text/x-python",
   "name": "python",
   "nbconvert_exporter": "python",
   "pygments_lexer": "ipython3",
   "version": "3.7.5"
  }
 },
 "nbformat": 4,
 "nbformat_minor": 2
}
