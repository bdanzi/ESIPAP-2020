{
 "cells": [
  {
   "cell_type": "markdown",
   "metadata": {},
   "source": [
    "# Experimental Particle Physics\n",
    "\n",
    "## Slides\n",
    "\n",
    "The slides of the lectures will appear in [this directory](Slides) as the course proceeds.\n",
    "\n",
    "## Homework\n",
    "\n",
    "I will leave things to do by yourself from day to day, in order to consolidate what we learned during the lectures. Instructions will appear in the [Homework](Homework) directory.\n",
    "\n",
    "## Analysis exercise\n",
    "\n",
    "Every once in a while, we will do simple calculations and analysis exercises. \n",
    "We will use [ROOT](https://root.cern) and [Python](https://www.python.org) with a [Jupyter](https://jupyter.org) notebook.\n",
    "\n",
    "If you have a CERN account, you can run the notebook on [SWAN](http://swan.web.cern.ch). Click the button below to open a session and import the repository. Otherwise, launch the standalone [binder](https://mybinder.org) using the other button below. It will give you a working environment with Python and ROOT that will allow you to run the notebooks from the browser. Of course, if you have a local version of Python and ROOT (with Python enabled) installed, simply clone or download the repository and run the notebooks on you computer. Ask me if you need help!\n",
    "\n",
    "**Go to the [Test](Test) directory and try to execute the example notebook there to verify your setup!**"
   ]
  },
  {
   "cell_type": "code",
   "execution_count": null,
   "metadata": {},
   "outputs": [],
   "source": []
  }
 ],
 "metadata": {
  "kernelspec": {
   "display_name": "Python 3",
   "language": "python",
   "name": "python3"
  },
  "language_info": {
   "codemirror_mode": {
    "name": "ipython",
    "version": 3
   },
   "file_extension": ".py",
   "mimetype": "text/x-python",
   "name": "python",
   "nbconvert_exporter": "python",
   "pygments_lexer": "ipython3",
   "version": "3.7.5"
  }
 },
 "nbformat": 4,
 "nbformat_minor": 2
}
