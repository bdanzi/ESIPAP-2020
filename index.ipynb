{
 "cells": [
  {
   "cell_type": "markdown",
   "metadata": {},
   "source": [
    "# ESIPAP 2019 - Experimental Particle Physics\n",
    "\n",
    "## Slides\n",
    "\n",
    "The slides of the lectures will appear in [this directory](Slides) as the course proceeds.\n",
    "\n",
    "## Homework\n",
    "\n",
    "I will sometime leave things to do by yourself, in order to consolidate what we learned during the lectures. Instructions and material will appear in the [Homework](Homework) directory.\n",
    "\n",
    "## Tutorials\n",
    "\n",
    "Every once in a while, we will do simple calculations and data analysis exercises. When the whiteboard will not be enough, we will use [ROOT](https://root.cern) and [Python](https://www.python.org) with [Jupyter](https://jupyter.org) notebooks, that will appear in the [Tutorials](Tutorials) directory. \n",
    "\n",
    "You have three options to run these notebooks:\n",
    "\n",
    "- If you have a version of Python and ROOT (with Python enabled) installed on your computer, clone or download the repository and run the notebooks locally.\n",
    "- If you have a CERN account, you can use [SWAN](http://swan.cern.ch). Clone the repository on your CERNBox area to access the notebooks.\n",
    "- If none of the above works for you, you can launch a standalone [binder](https://mybinder.org) environment using the other button below: It will give you a working setup with Python and ROOT that will allow you to run the notebooks from the browser. Please note that in this case any change you make will be lost unless you copy them elsewhere.\n",
    "\n",
    "[![Binder](https://mybinder.org/badge_logo.svg)](https://mybinder.org/v2/gh/marcodelmastro/ESIPAP-2020/master?filepath=index.ipynb)\n",
    "\n",
    "**Go to the [Test](Test) directory and execute the [example notebook](Test/TestSetup.ipynb) there to verify your setup!**\n"
   ]
  }
 ],
 "metadata": {
  "kernelspec": {
   "display_name": "Python 3",
   "language": "python",
   "name": "python3"
  },
  "language_info": {
   "codemirror_mode": {
    "name": "ipython",
    "version": 3
   },
   "file_extension": ".py",
   "mimetype": "text/x-python",
   "name": "python",
   "nbconvert_exporter": "python",
   "pygments_lexer": "ipython3",
   "version": "3.7.5"
  }
 },
 "nbformat": 4,
 "nbformat_minor": 2
}
